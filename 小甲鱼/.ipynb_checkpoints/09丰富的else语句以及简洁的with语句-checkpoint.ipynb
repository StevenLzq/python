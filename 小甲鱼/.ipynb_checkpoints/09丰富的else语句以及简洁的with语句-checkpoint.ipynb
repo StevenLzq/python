{
 "cells": [
  {
   "cell_type": "code",
   "execution_count": 3,
   "metadata": {},
   "outputs": [
    {
     "name": "stdout",
     "output_type": "stream",
     "text": [
      "请输入一个整数：12\n",
      "12最大的约数是6\n"
     ]
    }
   ],
   "source": [
    "\n",
    "def showmaxfactor(num):\n",
    "    count=num//2\n",
    "    while count>1:\n",
    "        if num %count==0:\n",
    "            print('%d最大的约数是%d'%(num,count))\n",
    "            break\n",
    "        count-=1\n",
    "    else:\n",
    "        print('%d是素数%d'%(num))\n",
    "num=input('请输入一个整数：')\n",
    "showmaxfactor(int(num))"
   ]
  },
  {
   "cell_type": "code",
   "execution_count": 5,
   "metadata": {},
   "outputs": [
    {
     "name": "stdout",
     "output_type": "stream",
     "text": [
      "出错啦not readable\n"
     ]
    }
   ],
   "source": [
    "#with  语句\n",
    "try:\n",
    "    with open('data.txt','w') as f:\n",
    "        for each_line in f:\n",
    "            print(each_line)\n",
    "except OSError as reason:\n",
    "    print('出错啦'+str(reason))"
   ]
  },
  {
   "cell_type": "code",
   "execution_count": null,
   "metadata": {},
   "outputs": [],
   "source": []
  }
 ],
 "metadata": {
  "kernelspec": {
   "display_name": "Python 3",
   "language": "python",
   "name": "python3"
  },
  "language_info": {
   "codemirror_mode": {
    "name": "ipython",
    "version": 3
   },
   "file_extension": ".py",
   "mimetype": "text/x-python",
   "name": "python",
   "nbconvert_exporter": "python",
   "pygments_lexer": "ipython3",
   "version": "3.5.2"
  }
 },
 "nbformat": 4,
 "nbformat_minor": 2
}
