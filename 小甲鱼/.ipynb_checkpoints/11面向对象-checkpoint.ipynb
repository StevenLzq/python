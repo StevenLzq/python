{
 "cells": [
  {
   "cell_type": "code",
   "execution_count": 1,
   "metadata": {},
   "outputs": [],
   "source": [
    "class Turtle(object):\n",
    "    #属性\n",
    "    age=3\n",
    "    def __init__(self,color,weight,shell,mouth):\n",
    "        self.color=color\n",
    "        self.weight=weight\n",
    "        self.shell=shell\n",
    "        self.mouth=mouth\n",
    "    #方法\n",
    "    def climb(self):\n",
    "        print('i am clambing...')\n",
    "        \n",
    "    def run(self):\n",
    "        print('i am running...')\n",
    "        \n",
    "    def bite(self):\n",
    "        print('bite you ')\n",
    "    \n",
    "    def eat(self):\n",
    "        print('that is delisious')\n",
    "        \n",
    "    def sleep(self):\n",
    "        print('i am so tierd')\n",
    "        "
   ]
  },
  {
   "cell_type": "code",
   "execution_count": 4,
   "metadata": {},
   "outputs": [
    {
     "name": "stdout",
     "output_type": "stream",
     "text": [
      "i am clambing...\n"
     ]
    }
   ],
   "source": [
    "tt=Turtle('green','1.1','true','big_mouth')\n",
    "tt.climb()"
   ]
  },
  {
   "cell_type": "code",
   "execution_count": 5,
   "metadata": {},
   "outputs": [],
   "source": [
    "class Ball(object):\n",
    "    def setName(self, name):\n",
    "        self.name=name\n",
    "    def kick(self):\n",
    "        print('I AM %swho kick me ,damn!'%self.name)\n",
    "        "
   ]
  },
  {
   "cell_type": "code",
   "execution_count": 8,
   "metadata": {},
   "outputs": [
    {
     "name": "stdout",
     "output_type": "stream",
     "text": [
      "say hai\n"
     ]
    }
   ],
   "source": [
    "#继承\n",
    "class Parent(object):\n",
    "    def hello(self):\n",
    "        print('say hai')\n",
    "        \n",
    "class Child(Parent):\n",
    "    pass\n",
    "\n",
    "c=Child()\n",
    "c.hello()\n",
    "\n"
   ]
  },
  {
   "cell_type": "code",
   "execution_count": 26,
   "metadata": {},
   "outputs": [],
   "source": [
    "import random \n",
    "class Fish(object):\n",
    "    def __init__(self):\n",
    "        self.x=random.randint(0,10)\n",
    "        self.y=random.randint(0,10)\n",
    "        \n",
    "    def move(self):\n",
    "        self.x-=1\n",
    "        print('m我的位置是',self.x,self.y)\n",
    "        \n",
    "class Goldfish(Fish):\n",
    "    pass\n",
    "\n",
    "class Carp(Fish):\n",
    "    pass\n",
    "\n",
    "class Salmon(Fish):\n",
    "    pass\n",
    "\n",
    "class Shark(Fish):\n",
    "    def __init__(self):\n",
    "       # Fish.__init__(self)#调用父类未绑定的方法\n",
    "        super().__init__()\n",
    "        self.hungry=True\n",
    "        \n",
    "    def eat(self):\n",
    "        if self.hungry:\n",
    "            print('i want to eat')\n",
    "            print(' that is good ')\n",
    "            self.hungry=False\n",
    "        else:\n",
    "            print('i am full')\n",
    "\n",
    "    "
   ]
  },
  {
   "cell_type": "code",
   "execution_count": 18,
   "metadata": {},
   "outputs": [
    {
     "name": "stdout",
     "output_type": "stream",
     "text": [
      "m我的位置是 2 5\n"
     ]
    }
   ],
   "source": [
    "fish=Fish()\n",
    "fish.move()"
   ]
  },
  {
   "cell_type": "code",
   "execution_count": 20,
   "metadata": {},
   "outputs": [
    {
     "name": "stdout",
     "output_type": "stream",
     "text": [
      "m我的位置是 6 7\n"
     ]
    }
   ],
   "source": [
    "goldfish=Goldfish()\n",
    "goldfish.move()"
   ]
  },
  {
   "cell_type": "code",
   "execution_count": 27,
   "metadata": {},
   "outputs": [
    {
     "name": "stdout",
     "output_type": "stream",
     "text": [
      "m我的位置是 0 7\n"
     ]
    }
   ],
   "source": [
    "shark=Shark()\n",
    "shark.move()"
   ]
  },
  {
   "cell_type": "code",
   "execution_count": 30,
   "metadata": {},
   "outputs": [
    {
     "name": "stdout",
     "output_type": "stream",
     "text": [
      "i am fool,i work for base1\n",
      "i am foo2,i work for base2\n"
     ]
    }
   ],
   "source": [
    "#多重继承\n",
    "class Base1(object):\n",
    "    def fool(self):\n",
    "        print('i am fool,i work for base1')\n",
    "class Base2(object):\n",
    "    def fool2(self):\n",
    "        print('i am foo2,i work for base2')\n",
    "\n",
    "class C(Base1,Base2):\n",
    "    pass\n",
    "c=C()\n",
    "c.fool()\n",
    "c.fool2()"
   ]
  },
  {
   "cell_type": "code",
   "execution_count": 31,
   "metadata": {},
   "outputs": [],
   "source": [
    "#组合\n",
    "class Turtle(object):\n",
    "    def __init__(self,x):\n",
    "        self.num=x\n",
    "class Fish(object):\n",
    "    def __init__(self,x):\n",
    "        self.num=x\n",
    "class Pool(object):\n",
    "    def __init__(self,x,y):\n",
    "        self.turtle=Turtle(x)\n",
    "        self.fish=Fish(y)\n",
    "    def print_num(self):\n",
    "        print('水池里有%d只乌龟和%d条鱼'%(self.turtle,self.fish))\n",
    "    "
   ]
  },
  {
   "cell_type": "code",
   "execution_count": null,
   "metadata": {},
   "outputs": [],
   "source": []
  }
 ],
 "metadata": {
  "kernelspec": {
   "display_name": "Python 3",
   "language": "python",
   "name": "python3"
  },
  "language_info": {
   "codemirror_mode": {
    "name": "ipython",
    "version": 3
   },
   "file_extension": ".py",
   "mimetype": "text/x-python",
   "name": "python",
   "nbconvert_exporter": "python",
   "pygments_lexer": "ipython3",
   "version": "3.5.2"
  }
 },
 "nbformat": 4,
 "nbformat_minor": 2
}
