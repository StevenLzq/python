{
 "cells": [
  {
   "cell_type": "code",
   "execution_count": 2,
   "metadata": {},
   "outputs": [
    {
     "data": {
      "text/plain": [
       "3"
      ]
     },
     "execution_count": 2,
     "metadata": {},
     "output_type": "execute_result"
    }
   ],
   "source": [
    "#把加改成减法\n",
    "class int(int):\n",
    "    def __add__(self,other):\n",
    "        return int.__sub__(self,other)\n",
    "a=int('5')\n",
    "b=int('2')\n",
    "a+b\n",
    "        "
   ]
  },
  {
   "cell_type": "code",
   "execution_count": 12,
   "metadata": {},
   "outputs": [],
   "source": [
    "import time as t\n",
    "class Mytimer():\n",
    "    def start(self):\n",
    "        self.start=t.localtime()\n",
    "        print('计时开始')\n",
    "    def stop(self):\n",
    "        self.stop=t.localtime()\n",
    "        self.__calc()\n",
    "        print(\"计时结束\")\n",
    "    #内部方法计算运行时间\n",
    "    def __calc(self):\n",
    "        self.lasted=[]\n",
    "        self.prompt='总共运行时间'\n",
    "        for index in range(6):#查看localtime\n",
    "            self.lasted.append(self.stop[index]-self.start[index])\n",
    "            self.prompt+=str(self.lasted[index])\n",
    "        print(self.prompt)"
   ]
  },
  {
   "cell_type": "code",
   "execution_count": 13,
   "metadata": {},
   "outputs": [
    {
     "name": "stdout",
     "output_type": "stream",
     "text": [
      "计时开始\n"
     ]
    }
   ],
   "source": [
    "t1=Mytimer()\n",
    "t1.start()"
   ]
  },
  {
   "cell_type": "code",
   "execution_count": 14,
   "metadata": {},
   "outputs": [
    {
     "name": "stdout",
     "output_type": "stream",
     "text": [
      "总共运行时间000002\n",
      "计时结束\n"
     ]
    }
   ],
   "source": [
    "t1.stop()"
   ]
  },
  {
   "cell_type": "code",
   "execution_count": 38,
   "metadata": {},
   "outputs": [],
   "source": [
    "import time as t\n",
    "\n",
    "class MyTimer:\n",
    "    def __init__(self):\n",
    "        self.unit = ['年', '月', '天', '小时', '分钟', '秒']\n",
    "        self.prompt = \"未开始计时！\"\n",
    "        self.lasted = []\n",
    "        self.begin = 0\n",
    "        self.end = 0\n",
    "    \n",
    "    def __str__(self):\n",
    "        return self.prompt\n",
    "\n",
    "    __repr__ = __str__\n",
    "\n",
    "    def __add__(self, other):\n",
    "        prompt = \"总共运行了\"\n",
    "        result = []\n",
    "        for index in range(6):\n",
    "            result.append(self.lasted[index] + other.lasted[index])\n",
    "            if result[index]:\n",
    "                prompt += (str(result[index]) + self.unit[index])\n",
    "        return prompt\n",
    "    \n",
    "    # 开始计时\n",
    "    def start(self):\n",
    "        self.begin = t.localtime()\n",
    "        self.prompt = \"提示：请先调用 stop() 停止计时！\"\n",
    "        print(\"计时开始...\")\n",
    "\n",
    "    # 停止计时\n",
    "    def stop(self):\n",
    "        if not self.begin:\n",
    "            print(\"提示：请先调用 start() 进行计时！\")\n",
    "        else:\n",
    "            self.end = t.localtime()\n",
    "            self._calc()\n",
    "            print(\"计时结束！\")\n",
    "\n",
    "    # 内部方法，计算运行时间\n",
    "    def _calc(self):\n",
    "        self.lasted = []\n",
    "        self.prompt = \"总共运行了\"\n",
    "        for index in range(6):\n",
    "            self.lasted.append(self.end[index] - self.begin[index])\n",
    "            if self.lasted[index]:\n",
    "                self.prompt += (str(self.lasted[index]) + self.unit[index])\n",
    "        # 为下一轮计时初始化变量\n",
    "        self.begin = 0\n",
    "        self.end = 0\n",
    "        "
   ]
  },
  {
   "cell_type": "code",
   "execution_count": 39,
   "metadata": {},
   "outputs": [
    {
     "name": "stdout",
     "output_type": "stream",
     "text": [
      "计时开始\n"
     ]
    }
   ],
   "source": [
    "t2=Mytimer()\n",
    "t2.start()"
   ]
  },
  {
   "cell_type": "code",
   "execution_count": 40,
   "metadata": {},
   "outputs": [
    {
     "name": "stdout",
     "output_type": "stream",
     "text": [
      "计时结束\n"
     ]
    }
   ],
   "source": [
    "t2.stop()"
   ]
  },
  {
   "cell_type": "code",
   "execution_count": 41,
   "metadata": {},
   "outputs": [
    {
     "data": {
      "text/plain": [
       "总共运行时间2秒"
      ]
     },
     "execution_count": 41,
     "metadata": {},
     "output_type": "execute_result"
    }
   ],
   "source": [
    "t2"
   ]
  },
  {
   "cell_type": "code",
   "execution_count": null,
   "metadata": {},
   "outputs": [],
   "source": []
  }
 ],
 "metadata": {
  "kernelspec": {
   "display_name": "Python 3",
   "language": "python",
   "name": "python3"
  },
  "language_info": {
   "codemirror_mode": {
    "name": "ipython",
    "version": 3
   },
   "file_extension": ".py",
   "mimetype": "text/x-python",
   "name": "python",
   "nbconvert_exporter": "python",
   "pygments_lexer": "ipython3",
   "version": "3.5.2"
  }
 },
 "nbformat": 4,
 "nbformat_minor": 2
}
