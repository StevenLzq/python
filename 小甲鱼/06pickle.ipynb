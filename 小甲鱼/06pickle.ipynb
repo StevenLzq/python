{
 "cells": [
  {
   "cell_type": "code",
   "execution_count": 3,
   "metadata": {},
   "outputs": [],
   "source": [
    "import  pickle\n",
    "my_list=[123,3.14,'小甲鱼','HI']\n",
    "pickle_file1=open('mypkl.pkl','wb')\n",
    "pickle.dump(my_list,pickle_file1)\n",
    "pickle_file1.close()"
   ]
  },
  {
   "cell_type": "code",
   "execution_count": 5,
   "metadata": {},
   "outputs": [
    {
     "name": "stdout",
     "output_type": "stream",
     "text": [
      "[123, 3.14, '小甲鱼', 'HI']\n"
     ]
    }
   ],
   "source": [
    "pickle_file=open('mypkl.pkl','rb')\n",
    "mylist2=pickle.load(pickle_file)\n",
    "print(mylist2)"
   ]
  },
  {
   "cell_type": "code",
   "execution_count": null,
   "metadata": {},
   "outputs": [],
   "source": [
    "|"
   ]
  }
 ],
 "metadata": {
  "kernelspec": {
   "display_name": "Python 3",
   "language": "python",
   "name": "python3"
  },
  "language_info": {
   "codemirror_mode": {
    "name": "ipython",
    "version": 3
   },
   "file_extension": ".py",
   "mimetype": "text/x-python",
   "name": "python",
   "nbconvert_exporter": "python",
   "pygments_lexer": "ipython3",
   "version": "3.5.2"
  }
 },
 "nbformat": 4,
 "nbformat_minor": 2
}
