{
 "cells": [
  {
   "cell_type": "code",
   "execution_count": 1,
   "metadata": {},
   "outputs": [
    {
     "name": "stdout",
     "output_type": "stream",
     "text": [
      "文件出错，错误原因是：[Errno 2] No such file or directory: 'hello.txt'\n"
     ]
    }
   ],
   "source": [
    "try:\n",
    "    f=open('hello.txt')\n",
    "    print(f.read())\n",
    "    f.close()\n",
    "except OSError as reason:\n",
    "    print('文件出错，错误原因是：'+str(reason))\n",
    "except TypeError as reason:\n",
    "     print('文件出错，错误原因是：'+str(reason))\n"
   ]
  },
  {
   "cell_type": "code",
   "execution_count": 2,
   "metadata": {},
   "outputs": [
    {
     "name": "stdout",
     "output_type": "stream",
     "text": [
      "13\n",
      "文件出错，错误原因是：unsupported operand type(s) for +: 'int' and 'str'\n"
     ]
    }
   ],
   "source": [
    "#文件在关闭前报错，没有写入\n",
    "try:\n",
    "    f=open('my.txt','w')\n",
    "    print(f.write('i miss you lw'))\n",
    "    1+'1'\n",
    "    f.close()\n",
    "except OSError as reason:\n",
    "    print('文件出错，错误原因是：'+str(reason))\n",
    "except TypeError as reason:\n",
    "     print('文件出错，错误原因是：'+str(reason))"
   ]
  },
  {
   "cell_type": "code",
   "execution_count": null,
   "metadata": {},
   "outputs": [],
   "source": [
    "#这样可以写入\n",
    "try:\n",
    "    f=open('my.txt','w')\n",
    "    print(f.write('i miss you lw'))\n",
    "    1+'1'\n",
    "    \n",
    "except OSError as reason:\n",
    "    print('文件出错，错误原因是：'+str(reason))\n",
    "except TypeError as reason:\n",
    "     print('文件出错，错误原因是：'+str(reason))\n",
    "finally:\n",
    "    f.close()"
   ]
  },
  {
   "cell_type": "code",
   "execution_count": null,
   "metadata": {},
   "outputs": [],
   "source": []
  }
 ],
 "metadata": {
  "kernelspec": {
   "display_name": "Python 3",
   "language": "python",
   "name": "python3"
  },
  "language_info": {
   "codemirror_mode": {
    "name": "ipython",
    "version": 3
   },
   "file_extension": ".py",
   "mimetype": "text/x-python",
   "name": "python",
   "nbconvert_exporter": "python",
   "pygments_lexer": "ipython3",
   "version": "3.5.2"
  }
 },
 "nbformat": 4,
 "nbformat_minor": 2
}
