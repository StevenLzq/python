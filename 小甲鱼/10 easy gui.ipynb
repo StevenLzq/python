{
 "cells": [
  {
   "cell_type": "code",
   "execution_count": 1,
   "metadata": {},
   "outputs": [],
   "source": [
    "import easygui as g\n",
    " \n",
    "g.msgbox('嗨美女')"
   ]
  },
  {
   "cell_type": "code",
   "execution_count": 9,
   "metadata": {},
   "outputs": [
    {
     "name": "stdout",
     "output_type": "stream",
     "text": [
      "[0]\n"
     ]
    },
    {
     "ename": "SystemExit",
     "evalue": "0",
     "output_type": "error",
     "traceback": [
      "An exception has occurred, use %tb to see the full traceback.\n",
      "\u001b[1;31mSystemExit\u001b[0m\u001b[1;31m:\u001b[0m 0\n"
     ]
    }
   ],
   "source": [
    "import sys\n",
    "while 1:\n",
    "    g.msgbox('欢迎进入第一个界面小游戏！')\n",
    "    msg='你想在这里学到神门呢'\n",
    "    title='小游戏互动'\n",
    "    choices=['谈恋爱','编程','ooxx','琴棋书画']\n",
    "    choice=g.choicebox(msg,title,choices)\n",
    "\n",
    "    g.msgbox('你的选择是：'+str(choice),'结果')\n",
    "    msg='你希望重新开始小游戏吗'\n",
    "    title='请选择'\n",
    "\n",
    "    if g.ccbox(msg,title):\n",
    "        pass\n",
    "    else:\n",
    "        sys.exit(0)"
   ]
  },
  {
   "cell_type": "code",
   "execution_count": null,
   "metadata": {},
   "outputs": [],
   "source": []
  }
 ],
 "metadata": {
  "kernelspec": {
   "display_name": "Python 3",
   "language": "python",
   "name": "python3"
  },
  "language_info": {
   "codemirror_mode": {
    "name": "ipython",
    "version": 3
   },
   "file_extension": ".py",
   "mimetype": "text/x-python",
   "name": "python",
   "nbconvert_exporter": "python",
   "pygments_lexer": "ipython3",
   "version": "3.5.2"
  }
 },
 "nbformat": 4,
 "nbformat_minor": 2
}
