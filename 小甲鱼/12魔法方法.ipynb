{
 "cells": [
  {
   "cell_type": "code",
   "execution_count": 2,
   "metadata": {},
   "outputs": [
    {
     "data": {
      "text/plain": [
       "3"
      ]
     },
     "execution_count": 2,
     "metadata": {},
     "output_type": "execute_result"
    }
   ],
   "source": [
    "#把加改成减法\n",
    "class int(int):\n",
    "    def __add__(self,other):\n",
    "        return int.__sub__(self,other)\n",
    "a=int('5')\n",
    "b=int('2')\n",
    "a+b\n",
    "        "
   ]
  },
  {
   "cell_type": "code",
   "execution_count": 12,
   "metadata": {},
   "outputs": [],
   "source": [
    "import time as t\n",
    "class Mytimer():\n",
    "    def start(self):\n",
    "        self.start=t.localtime()\n",
    "        print('计时开始')\n",
    "    def stop(self):\n",
    "        self.stop=t.localtime()\n",
    "        self.__calc()\n",
    "        print(\"计时结束\")\n",
    "    #内部方法计算运行时间\n",
    "    def __calc(self):\n",
    "        self.lasted=[]\n",
    "        self.prompt='总共运行时间'\n",
    "        for index in range(6):#查看localtime\n",
    "            self.lasted.append(self.stop[index]-self.start[index])\n",
    "            self.prompt+=str(self.lasted[index])\n",
    "        print(self.prompt)"
   ]
  },
  {
   "cell_type": "code",
   "execution_count": 13,
   "metadata": {},
   "outputs": [
    {
     "name": "stdout",
     "output_type": "stream",
     "text": [
      "计时开始\n"
     ]
    }
   ],
   "source": [
    "t1=Mytimer()\n",
    "t1.start()"
   ]
  },
  {
   "cell_type": "code",
   "execution_count": 14,
   "metadata": {},
   "outputs": [
    {
     "name": "stdout",
     "output_type": "stream",
     "text": [
      "总共运行时间000002\n",
      "计时结束\n"
     ]
    }
   ],
   "source": [
    "t1.stop()"
   ]
  },
  {
   "cell_type": "code",
   "execution_count": 38,
   "metadata": {},
   "outputs": [],
   "source": [
    "import time as t\n",
    "\n",
    "class MyTimer:\n",
    "    def __init__(self):\n",
    "        self.unit = ['年', '月', '天', '小时', '分钟', '秒']\n",
    "        self.prompt = \"未开始计时！\"\n",
    "        self.lasted = []\n",
    "        self.begin = 0\n",
    "        self.end = 0\n",
    "    \n",
    "    def __str__(self):\n",
    "        return self.prompt\n",
    "\n",
    "    __repr__ = __str__\n",
    "\n",
    "    def __add__(self, other):\n",
    "        prompt = \"总共运行了\"\n",
    "        result = []\n",
    "        for index in range(6):\n",
    "            result.append(self.lasted[index] + other.lasted[index])\n",
    "            if result[index]:\n",
    "                prompt += (str(result[index]) + self.unit[index])\n",
    "        return prompt\n",
    "    \n",
    "    # 开始计时\n",
    "    def start(self):\n",
    "        self.begin = t.localtime()\n",
    "        self.prompt = \"提示：请先调用 stop() 停止计时！\"\n",
    "        print(\"计时开始...\")\n",
    "\n",
    "    # 停止计时\n",
    "    def stop(self):\n",
    "        if not self.begin:\n",
    "            print(\"提示：请先调用 start() 进行计时！\")\n",
    "        else:\n",
    "            self.end = t.localtime()\n",
    "            self._calc()\n",
    "            print(\"计时结束！\")\n",
    "\n",
    "    # 内部方法，计算运行时间\n",
    "    def _calc(self):\n",
    "        self.lasted = []\n",
    "        self.prompt = \"总共运行了\"\n",
    "        for index in range(6):\n",
    "            self.lasted.append(self.end[index] - self.begin[index])\n",
    "            if self.lasted[index]:\n",
    "                self.prompt += (str(self.lasted[index]) + self.unit[index])\n",
    "        # 为下一轮计时初始化变量\n",
    "        self.begin = 0\n",
    "        self.end = 0\n",
    "        "
   ]
  },
  {
   "cell_type": "code",
   "execution_count": 39,
   "metadata": {},
   "outputs": [
    {
     "name": "stdout",
     "output_type": "stream",
     "text": [
      "计时开始\n"
     ]
    }
   ],
   "source": [
    "t2=Mytimer()\n",
    "t2.start()"
   ]
  },
  {
   "cell_type": "code",
   "execution_count": 40,
   "metadata": {},
   "outputs": [
    {
     "name": "stdout",
     "output_type": "stream",
     "text": [
      "计时结束\n"
     ]
    }
   ],
   "source": [
    "t2.stop()"
   ]
  },
  {
   "cell_type": "code",
   "execution_count": 41,
   "metadata": {},
   "outputs": [
    {
     "data": {
      "text/plain": [
       "总共运行时间2秒"
      ]
     },
     "execution_count": 41,
     "metadata": {},
     "output_type": "execute_result"
    }
   ],
   "source": [
    "t2"
   ]
  },
  {
   "cell_type": "code",
   "execution_count": 2,
   "metadata": {},
   "outputs": [],
   "source": [
    "#属性访问\n",
    "class C():\n",
    "    def __init__(self):\n",
    "        self.x='X-man'\n",
    "a=C()\n",
    "b=C()\n"
   ]
  },
  {
   "cell_type": "code",
   "execution_count": 3,
   "metadata": {},
   "outputs": [
    {
     "data": {
      "text/plain": [
       "'X-man'"
      ]
     },
     "execution_count": 3,
     "metadata": {},
     "output_type": "execute_result"
    }
   ],
   "source": [
    "a.x"
   ]
  },
  {
   "cell_type": "code",
   "execution_count": 4,
   "metadata": {},
   "outputs": [
    {
     "data": {
      "text/plain": [
       "'X-man'"
      ]
     },
     "execution_count": 4,
     "metadata": {},
     "output_type": "execute_result"
    }
   ],
   "source": [
    "getattr(a,'x','木有这个属性')"
   ]
  },
  {
   "cell_type": "code",
   "execution_count": 6,
   "metadata": {},
   "outputs": [
    {
     "data": {
      "text/plain": [
       "'好像没有这个属性'"
      ]
     },
     "execution_count": 6,
     "metadata": {},
     "output_type": "execute_result"
    }
   ],
   "source": [
    "getattr(a,'y','好像没有这个属性')"
   ]
  },
  {
   "cell_type": "code",
   "execution_count": 7,
   "metadata": {},
   "outputs": [],
   "source": [
    "class C():\n",
    "    def __init__(self,size=10):\n",
    "        self.size=size\n",
    "    def getsize(self):\n",
    "        return self.size\n",
    "    def setsize(self,value):\n",
    "        self.size=value\n",
    "    def delsize(self):\n",
    "        del self.size\n",
    "    x=property(getsize,setsize,delsize)\n",
    "        \n",
    "    "
   ]
  },
  {
   "cell_type": "code",
   "execution_count": 11,
   "metadata": {},
   "outputs": [],
   "source": [
    "c=C()"
   ]
  },
  {
   "cell_type": "code",
   "execution_count": 12,
   "metadata": {},
   "outputs": [
    {
     "data": {
      "text/plain": [
       "10"
      ]
     },
     "execution_count": 12,
     "metadata": {},
     "output_type": "execute_result"
    }
   ],
   "source": [
    "c.x"
   ]
  },
  {
   "cell_type": "code",
   "execution_count": 13,
   "metadata": {},
   "outputs": [],
   "source": [
    "c.x=1"
   ]
  },
  {
   "cell_type": "code",
   "execution_count": 14,
   "metadata": {},
   "outputs": [
    {
     "data": {
      "text/plain": [
       "1"
      ]
     },
     "execution_count": 14,
     "metadata": {},
     "output_type": "execute_result"
    }
   ],
   "source": [
    "c.x"
   ]
  },
  {
   "cell_type": "code",
   "execution_count": 17,
   "metadata": {},
   "outputs": [
    {
     "data": {
      "text/plain": [
       "1"
      ]
     },
     "execution_count": 17,
     "metadata": {},
     "output_type": "execute_result"
    }
   ],
   "source": [
    "c.size"
   ]
  },
  {
   "cell_type": "code",
   "execution_count": 18,
   "metadata": {},
   "outputs": [],
   "source": [
    "del c.x"
   ]
  },
  {
   "cell_type": "code",
   "execution_count": 21,
   "metadata": {},
   "outputs": [],
   "source": [
    "c.x=2"
   ]
  },
  {
   "cell_type": "code",
   "execution_count": 22,
   "metadata": {},
   "outputs": [
    {
     "data": {
      "text/plain": [
       "2"
      ]
     },
     "execution_count": 22,
     "metadata": {},
     "output_type": "execute_result"
    }
   ],
   "source": [
    "c.x"
   ]
  },
  {
   "cell_type": "code",
   "execution_count": 27,
   "metadata": {},
   "outputs": [
    {
     "name": "stdout",
     "output_type": "stream",
     "text": [
      "getattribute\n",
      "getattr\n"
     ]
    }
   ],
   "source": [
    "#属性访问\n",
    "class C():\n",
    "    def __getattribute__(self,name):\n",
    "        print('getattribute')\n",
    "        return super().__getattribute__(name) #super(). 自动找父类\n",
    "    def __getattr__(self ,name):\n",
    "        print('getattr')\n",
    "        \n",
    "    def __setattr__(self,name,value):\n",
    "        print('setattr')\n",
    "        super().__setattr__(name,value)\n",
    "        \n",
    "    def __delattr__(self ,name):\n",
    "        print('delattr')\n",
    "        rsuper().__delattr__(name)\n",
    "c=C()\n",
    "c.x\n",
    "#先访问属性 getattribute   后发现属性不存在getattr"
   ]
  },
  {
   "cell_type": "code",
   "execution_count": 28,
   "metadata": {},
   "outputs": [
    {
     "name": "stdout",
     "output_type": "stream",
     "text": [
      "setattr\n"
     ]
    }
   ],
   "source": [
    "c.x=1"
   ]
  },
  {
   "cell_type": "code",
   "execution_count": 29,
   "metadata": {},
   "outputs": [
    {
     "name": "stdout",
     "output_type": "stream",
     "text": [
      "getattribute\n"
     ]
    },
    {
     "data": {
      "text/plain": [
       "1"
      ]
     },
     "execution_count": 29,
     "metadata": {},
     "output_type": "execute_result"
    }
   ],
   "source": [
    "c.x"
   ]
  },
  {
   "cell_type": "code",
   "execution_count": 40,
   "metadata": {},
   "outputs": [],
   "source": [
    "#rectangle\n",
    "class Rec():\n",
    "    def __init__(self,w=0,h=0):\n",
    "        self.w=w\n",
    "        self.h=h\n",
    "    def __setattr__(self,name,value):\n",
    "        if name=='square':\n",
    "            self.w=value\n",
    "            self.h=value\n",
    "            \n",
    "        else: \n",
    "            super().__setattr__(name,value)\n",
    "            #self.__dict__[name]=value\n",
    "            \n",
    "    def getarea(self):\n",
    "        return self.w*self.h"
   ]
  },
  {
   "cell_type": "code",
   "execution_count": 41,
   "metadata": {},
   "outputs": [],
   "source": [
    "r1=Rec(4,5)"
   ]
  },
  {
   "cell_type": "code",
   "execution_count": 42,
   "metadata": {},
   "outputs": [
    {
     "data": {
      "text/plain": [
       "20"
      ]
     },
     "execution_count": 42,
     "metadata": {},
     "output_type": "execute_result"
    }
   ],
   "source": [
    "r1.getarea()"
   ]
  },
  {
   "cell_type": "code",
   "execution_count": 43,
   "metadata": {},
   "outputs": [],
   "source": [
    "r1.square=10"
   ]
  },
  {
   "cell_type": "code",
   "execution_count": 44,
   "metadata": {},
   "outputs": [
    {
     "data": {
      "text/plain": [
       "10"
      ]
     },
     "execution_count": 44,
     "metadata": {},
     "output_type": "execute_result"
    }
   ],
   "source": [
    "r1.w"
   ]
  },
  {
   "cell_type": "code",
   "execution_count": 47,
   "metadata": {},
   "outputs": [
    {
     "data": {
      "text/plain": [
       "100"
      ]
     },
     "execution_count": 47,
     "metadata": {},
     "output_type": "execute_result"
    }
   ],
   "source": [
    "r1.getarea()"
   ]
  },
  {
   "cell_type": "code",
   "execution_count": 48,
   "metadata": {},
   "outputs": [
    {
     "data": {
      "text/plain": [
       "{'h': 10, 'w': 10}"
      ]
     },
     "execution_count": 48,
     "metadata": {},
     "output_type": "execute_result"
    }
   ],
   "source": [
    "r1.__dict__"
   ]
  },
  {
   "cell_type": "code",
   "execution_count": 50,
   "metadata": {},
   "outputs": [],
   "source": [
    "#描述符\n",
    "#property \n",
    "class Mydecriptor():\n",
    "    def __get__(self,instance ,owner):\n",
    "        print('getting...',self,instance ,owner)\n",
    "    def __set__(self,instance ,value):\n",
    "        print('settting...',self,instance,value)\n",
    "    def __delete__(self,instance):\n",
    "        print('deleting...',self,instance)\n",
    "        \n",
    "class Test():\n",
    "    x=Mydecriptor()\n",
    "        \n",
    "    "
   ]
  },
  {
   "cell_type": "code",
   "execution_count": 51,
   "metadata": {},
   "outputs": [],
   "source": [
    "test=Test()"
   ]
  },
  {
   "cell_type": "code",
   "execution_count": 52,
   "metadata": {},
   "outputs": [
    {
     "name": "stdout",
     "output_type": "stream",
     "text": [
      "getting... <__main__.Mydecriptor object at 0x000001E4ADFD2518> <__main__.Test object at 0x000001E4ADFCACC0> <class '__main__.Test'>\n"
     ]
    }
   ],
   "source": [
    "test.x"
   ]
  },
  {
   "cell_type": "code",
   "execution_count": null,
   "metadata": {},
   "outputs": [],
   "source": [
    "#第一个是描述符类本身的实例\n",
    "#第二个拥有者test的类的实例\n",
    "#第三个是类本身\n"
   ]
  },
  {
   "cell_type": "code",
   "execution_count": 53,
   "metadata": {},
   "outputs": [
    {
     "name": "stdout",
     "output_type": "stream",
     "text": [
      "settting... <__main__.Mydecriptor object at 0x000001E4ADFD2518> <__main__.Test object at 0x000001E4ADFCACC0> x_man\n"
     ]
    }
   ],
   "source": [
    "test.x='x_man'"
   ]
  },
  {
   "cell_type": "code",
   "execution_count": 54,
   "metadata": {},
   "outputs": [
    {
     "name": "stdout",
     "output_type": "stream",
     "text": [
      "deleting... <__main__.Mydecriptor object at 0x000001E4ADFD2518> <__main__.Test object at 0x000001E4ADFCACC0>\n"
     ]
    }
   ],
   "source": [
    "del test.x"
   ]
  },
  {
   "cell_type": "code",
   "execution_count": 63,
   "metadata": {},
   "outputs": [],
   "source": [
    "#property\n",
    "class Myproperty():\n",
    "    def __init__(self ,fget=None,fset=None,fdel=None):\n",
    "        self.fget=fget\n",
    "        self.fset=fset\n",
    "        self.fdel=fdel\n",
    "        \n",
    "    def __get__(self,instance,owner):\n",
    "        return self.fget(instance)\n",
    "    def  __set__(self ,instance,value):\n",
    "        self.fset(instance,value)\n",
    "    def __delete__(self,instance):\n",
    "        self.fdel(instance)"
   ]
  },
  {
   "cell_type": "code",
   "execution_count": 64,
   "metadata": {},
   "outputs": [],
   "source": [
    "class Cx():\n",
    "    def __init__(self):\n",
    "        self._x=None\n",
    "        \n",
    "    def getx(self):\n",
    "        return self._x\n",
    "    def setx(self,value):\n",
    "        self._x=value\n",
    "    def delx(self):\n",
    "        delete self._x\n",
    "    x=Myproperty(getx,setx,delx)"
   ]
  },
  {
   "cell_type": "code",
   "execution_count": 65,
   "metadata": {},
   "outputs": [],
   "source": [
    "c=Cx()"
   ]
  },
  {
   "cell_type": "code",
   "execution_count": 66,
   "metadata": {},
   "outputs": [],
   "source": [
    "c.x='x_man'"
   ]
  },
  {
   "cell_type": "code",
   "execution_count": 67,
   "metadata": {},
   "outputs": [
    {
     "data": {
      "text/plain": [
       "'x_man'"
      ]
     },
     "execution_count": 67,
     "metadata": {},
     "output_type": "execute_result"
    }
   ],
   "source": [
    "c._x"
   ]
  },
  {
   "cell_type": "code",
   "execution_count": 68,
   "metadata": {},
   "outputs": [],
   "source": [
    "del c.x"
   ]
  },
  {
   "cell_type": "code",
   "execution_count": 70,
   "metadata": {},
   "outputs": [],
   "source": [
    "#重要\n",
    "#温度转化\n",
    "class Celsius():\n",
    "    def __init__(self,value=26.0):\n",
    "        self.value=float(value)\n",
    "    def __get__(self ,instance ,owner):\n",
    "        return self.value\n",
    "    def __set__(self,instance,value):\n",
    "        self.value=float(value)\n",
    "class Fah():\n",
    "    def __get__(self,instance,owner):\n",
    "        return instance.cel*1.8+32\n",
    "    def __set__(self,instance,value):\n",
    "        instance.cel=(float(value)-32)/1.8\n",
    "    \n",
    "    \n",
    "class Temprature():\n",
    "    cel=Celsius()\n",
    "    fas=Fah()"
   ]
  },
  {
   "cell_type": "code",
   "execution_count": 71,
   "metadata": {},
   "outputs": [
    {
     "data": {
      "text/plain": [
       "26.0"
      ]
     },
     "execution_count": 71,
     "metadata": {},
     "output_type": "execute_result"
    }
   ],
   "source": [
    "temp=Temprature()\n",
    "temp.cel"
   ]
  },
  {
   "cell_type": "code",
   "execution_count": 72,
   "metadata": {},
   "outputs": [],
   "source": [
    "temp.cel=30\n"
   ]
  },
  {
   "cell_type": "code",
   "execution_count": 73,
   "metadata": {},
   "outputs": [
    {
     "data": {
      "text/plain": [
       "86.0"
      ]
     },
     "execution_count": 73,
     "metadata": {},
     "output_type": "execute_result"
    }
   ],
   "source": [
    "temp.fas"
   ]
  },
  {
   "cell_type": "code",
   "execution_count": 74,
   "metadata": {},
   "outputs": [],
   "source": [
    "temp.fas=100"
   ]
  },
  {
   "cell_type": "code",
   "execution_count": 75,
   "metadata": {},
   "outputs": [
    {
     "data": {
      "text/plain": [
       "37.77777777777778"
      ]
     },
     "execution_count": 75,
     "metadata": {},
     "output_type": "execute_result"
    }
   ],
   "source": [
    "temp.cel"
   ]
  },
  {
   "cell_type": "code",
   "execution_count": 76,
   "metadata": {},
   "outputs": [],
   "source": [
    "#bu可变列表\n",
    "class CountList():\n",
    "    def __init__(self,*args):#*args参数是可变数量的\n",
    "        self.values=[x for x in args] #把用户数据存到列表中\n",
    "        self.count={}.fromkeys(range(len(self.values)),0)#记录列表每个元素被访问次数，初始化 ，用下标做key\n",
    "        #value初始化为0\n",
    "        \n",
    "    def __len__(self):\n",
    "        return len(self.values)\n",
    "    \n",
    "    def __getitem__(self,key):\n",
    "        self.count[key]+=1 #记录次数\n",
    "        return self.values[key]\n",
    "        \n",
    "    "
   ]
  },
  {
   "cell_type": "code",
   "execution_count": 77,
   "metadata": {},
   "outputs": [],
   "source": [
    "c1=CountList(1,3,5,7,9)"
   ]
  },
  {
   "cell_type": "code",
   "execution_count": 79,
   "metadata": {},
   "outputs": [
    {
     "data": {
      "text/plain": [
       "3"
      ]
     },
     "execution_count": 79,
     "metadata": {},
     "output_type": "execute_result"
    }
   ],
   "source": [
    "c1[1]"
   ]
  },
  {
   "cell_type": "code",
   "execution_count": 80,
   "metadata": {},
   "outputs": [
    {
     "data": {
      "text/plain": [
       "{0: 0, 1: 1, 2: 0, 3: 0, 4: 0}"
      ]
     },
     "execution_count": 80,
     "metadata": {},
     "output_type": "execute_result"
    }
   ],
   "source": [
    "c1.count"
   ]
  },
  {
   "cell_type": "code",
   "execution_count": 83,
   "metadata": {},
   "outputs": [
    {
     "name": "stdout",
     "output_type": "stream",
     "text": [
      "i\n",
      "l\n",
      "o\n",
      "v\n",
      "e\n",
      "y\n",
      "o\n",
      "u\n"
     ]
    }
   ],
   "source": [
    "#迭代器\n",
    "string='iloveyou'\n",
    "it=iter(string)\n",
    "while True:\n",
    "    try:\n",
    "        each=next(it)\n",
    "    except StopIteration:\n",
    "        break\n",
    "    print(each)"
   ]
  },
  {
   "cell_type": "code",
   "execution_count": 88,
   "metadata": {},
   "outputs": [],
   "source": [
    "class Fibs():\n",
    "    def __init__(self,n=10):\n",
    "        self.a=0\n",
    "        self.b=1\n",
    "        self.n=n\n",
    "    def __iter__(self):\n",
    "        return self\n",
    "    def __next__(self):\n",
    "        self.a,self.b=self.b,self.a+self.b\n",
    "        if self.a >self.n:\n",
    "            raise StopIteration\n",
    "        return self.a\n",
    "fibs=Fibs()\n",
    "        "
   ]
  },
  {
   "cell_type": "code",
   "execution_count": 89,
   "metadata": {},
   "outputs": [
    {
     "name": "stdout",
     "output_type": "stream",
     "text": [
      "1\n",
      "1\n",
      "2\n",
      "3\n",
      "5\n",
      "8\n",
      "13\n"
     ]
    }
   ],
   "source": [
    "for each in fibs:\n",
    "    if each <20:\n",
    "        print(each)\n",
    "    else:\n",
    "        break"
   ]
  },
  {
   "cell_type": "code",
   "execution_count": null,
   "metadata": {},
   "outputs": [],
   "source": []
  }
 ],
 "metadata": {
  "kernelspec": {
   "display_name": "Python 3",
   "language": "python",
   "name": "python3"
  },
  "language_info": {
   "codemirror_mode": {
    "name": "ipython",
    "version": 3
   },
   "file_extension": ".py",
   "mimetype": "text/x-python",
   "name": "python",
   "nbconvert_exporter": "python",
   "pygments_lexer": "ipython3",
   "version": "3.5.2"
  }
 },
 "nbformat": 4,
 "nbformat_minor": 2
}
