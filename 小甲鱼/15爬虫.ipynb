{
 "cells": [
  {
   "cell_type": "code",
   "execution_count": 2,
   "metadata": {},
   "outputs": [
    {
     "name": "stdout",
     "output_type": "stream",
     "text": [
      "b'<!DOCTYPE html>\\n<html lang=\"en\">\\n<head>\\n    <meta charset=\"UTF-8\">\\n    <meta name=\"viewport\" content=\"width=device-width, initial-scale=1.0\">\\n    <meta name=\"keywords\" content=\"\\xe9\\xb1\\xbcC\\xe5\\xb7\\xa5\\xe4\\xbd\\x9c\\xe5\\xae\\xa4|\\xe5\\x85\\x8d\\xe8\\xb4\\xb9\\xe7\\xbc\\x96\\xe7\\xa8\\x8b\\xe8\\xa7\\x86\\xe9\\xa2\\x91\\xe6\\x95\\x99\\xe5\\xad\\xa6|Python\\xe6\\x95\\x99\\xe5\\xad\\xa6|Web\\xe5\\xbc\\x80\\xe5\\x8f\\x91\\xe6\\x95\\x99\\xe5\\xad\\xa6|\\xe5\\x85\\xa8\\xe6\\xa0\\x88\\xe5\\xbc\\x80\\xe5\\x8f\\x91\\xe6\\x95\\x99\\xe5\\xad\\xa6|C\\xe8\\xaf\\xad\\xe8\\xa8\\x80\\xe6\\x95\\x99\\xe5\\xad\\xa6|\\xe6\\xb1\\x87\\xe7\\xbc\\x96\\xe6\\x95\\x99\\xe5\\xad\\xa6|Win32\\xe5\\xbc\\x80\\xe5\\x8f\\x91|\\xe5\\x8a\\xa0\\xe5\\xaf\\x86\\xe4\\xb8\\x8e\\xe8\\xa7\\xa3\\xe5\\xaf\\x86|Linux\\xe6\\x95\\x99\\xe5\\xad\\xa6\">\\n    <meta name=\"description\" content=\"\\xe9\\xb1\\xbcC\\xe5\\xb7\\xa5\\xe4\\xbd\\x9c\\xe5\\xae\\xa4\\xe4\\xb8\\xba\\xe5\\xa4\\xa7\\xe5\\xae\\xb6\\xe6\\x8f\\x90\\xe4\\xbe\\x9b\\xe6\\x9c\\x80\\xe6\\x9c\\x89\\xe8\\xb6\\xa3\\xe7\\x9a\\x84\\xe7\\xbc\\x96\\xe7\\xa8\\x8b\\xe8\\xa7\\x86\\xe9\\xa2\\x91\\xe6\\x95\\x99\\xe5\\xad\\xa6\\xe3\\x80\\x82\">\\n    <meta name=\"author\" content=\"\\xe9\\xb1\\xbcC\\xe5\\xb7\\xa5\\xe4\\xbd\\x9c\\xe5\\xae\\xa4\">\\n    <title>\\xe9\\xb1\\xbcC\\xe5\\xb7\\xa5\\xe4\\xbd\\x9c\\xe5\\xae\\xa4-\\xe5\\x85\\x8d\\xe8\\xb4\\xb9\\xe7\\xbc\\x96\\xe7\\xa8\\x8b\\xe8\\xa7\\x86\\xe9\\xa2\\x91\\xe6\\x95\\x99\\xe5\\xad\\xa6|Python\\xe6\\x95\\x99\\xe5\\xad\\xa6|Web\\xe5\\xbc\\x80\\xe5\\x8f\\x91\\xe6\\x95\\x99\\xe5\\xad\\xa6|\\xe5\\x85\\xa8\\xe6\\xa0\\x88\\xe5\\xbc\\x80\\xe5\\x8f\\x91\\xe6\\x95\\x99\\xe5\\xad\\xa6|C\\xe8\\xaf\\xad\\xe8\\xa8\\x80\\xe6\\x95\\x99\\xe5\\xad\\xa6|\\xe6\\xb1\\x87\\xe7\\xbc\\x96\\xe6\\x95\\x99\\xe5\\xad\\xa6|Win32\\xe5\\xbc\\x80\\xe5\\x8f\\x91|\\xe5\\x8a\\xa0\\xe5\\xaf\\x86\\xe4\\xb8\\x8e\\xe8\\xa7\\xa3\\xe5\\xaf\\x86|Linux\\xe6\\x95\\x99\\xe5\\xad\\xa6</title>\\n    <link rel=\"shortcut icon\" type=\"image/x-icon\" href=\"img/favicon.ico\">\\n    <link rel=\"stylesheet\" href=\"css/styles.css\">\\n     <!--<link rel=\"stylesheet\" href=\"css/timeline.css\">-->\\n    <script src=\"js/jq.js\"></script>\\n    <script src=\"js/fishcEgg.js\"></script>\\n    <script>\\n        $(document).ready(function() {\\n            var windowHeight = document.documentElement.clientHeight || document.body.clientHeight;\\n\\n            createStoryJS({\\n                type:       \\'timeline\\',\\n                width:      \\'auto\\',\\n                height:     windowHeight,\\n                source:     \\'data.json\\',\\n                start_at_end:true,                          //OPTIONAL START AT LATEST DATE\\n                embed_id:   \\'my-timeline\\'\\n            });\\n\\n            // \\xe6\\xb5\\x8f\\xe8\\xa7\\x88\\xe5\\x99\\xa8\\xe5\\x88\\xa4\\xe6\\x96\\xad\\xef\\xbc\\x8c\\xe5\\xa6\\x82\\xe6\\x9e\\x9c\\xe6\\x98\\xafIE\\xe5\\xbc\\xb9\\xe5\\x87\\xba\\xe6\\x8f\\x90\\xe7\\xa4\\xba\\xe6\\xa1\\x86\\n            function getExplore(){\\n                var Sys = {};\\n                var ua = navigator.userAgent.toLowerCase();\\n                var s;\\n                (s = ua.match(/rv:([\\\\d.]+)\\\\) like gecko/)) ? Sys.ie = s[1] :\\n                    (s = ua.match(/msie ([\\\\d\\\\.]+)/)) ? Sys.ie = s[1] :\\n                        (s = ua.match(/edge\\\\/([\\\\d\\\\.]+)/)) ? Sys.edge = s[1] :\\n                            (s = ua.match(/firefox\\\\/([\\\\d\\\\.]+)/)) ? Sys.firefox = s[1] :\\n                                (s = ua.match(/(?:opera|opr).([\\\\d\\\\.]+)/)) ? Sys.opera = s[1] :\\n                                    (s = ua.match(/chrome\\\\/([\\\\d\\\\.]+)/)) ? Sys.chrome = s[1] :\\n                                        (s = ua.match(/version\\\\/([\\\\d\\\\.]+).*safari/)) ? Sys.safari = s[1] : 0;\\n                // \\xe6\\xa0\\xb9\\xe6\\x8d\\xae\\xe5\\x85\\xb3\\xe7\\xb3\\xbb\\xe8\\xbf\\x9b\\xe8\\xa1\\x8c\\xe5\\x88\\xa4\\xe6\\x96\\xad\\n                if (Sys.ie) alert(\\'\\xe8\\xaf\\xb7\\xe4\\xbd\\xbf\\xe7\\x94\\xa8\\xe9\\x9d\\x9eIE\\xe6\\xb5\\x8f\\xe8\\xa7\\x88\\xe5\\x99\\xa8\\xe6\\x89\\x93\\xe5\\xbc\\x80\\xe6\\x9c\\xac\\xe4\\xb8\\xbb\\xe9\\xa1\\xb5\\');\\n\\n            }\\n            getExplore();\\n\\n        });\\n    </script>\\n    <!-- <script src=\"js/timeline-min.js\"></script>\\n    <script src=\"js/embed.js\"></script> -->\\n    <!-- <script src=\"https://cdn.bootcss.com/timelinejs/2.36.0/js/storyjs-embed.js\"></script> -->\\n    <script src=\"https://cdnjs.cloudflare.com/ajax/libs/timelinejs/2.36.0/js/storyjs-embed.js\"></script>\\n    <!-- END TimelineJS -->\\n</head>\\n<body>\\n<a href=\\'http://fishc.taobao.com\\' target=\\'_blank\\' style=\"position: absolute;z-index: 99999;\"><img style=\"position: fixed; top: 15px; right: 0; border: 0;\" src=\"img/fork.png\" alt=\"Support Thanks\"></a>\\n<div id=\"my-timeline\"></div>\\n\\n<script>\\n    window.onload = function(){\\n        $(\".storyjs-embed.sized-embed\").css(\"padding-top\",\"0\");\\n        $(\".vco-storyjs .vco-feature .vco-slide\").css(\"padding-top\",\"0\");\\n    };\\n\\n</script>\\n</body>\\n</html>'\n"
     ]
    }
   ],
   "source": [
    "import urllib.request \n",
    "response=urllib.request.urlopen('http://www.fishc.com')\n",
    "html=response.read()\n",
    "print(html)"
   ]
  },
  {
   "cell_type": "code",
   "execution_count": null,
   "metadata": {},
   "outputs": [],
   "source": []
  },
  {
   "cell_type": "code",
   "execution_count": 3,
   "metadata": {},
   "outputs": [
    {
     "name": "stdout",
     "output_type": "stream",
     "text": [
      "<!DOCTYPE html>\n",
      "<html lang=\"en\">\n",
      "<head>\n",
      "    <meta charset=\"UTF-8\">\n",
      "    <meta name=\"viewport\" content=\"width=device-width, initial-scale=1.0\">\n",
      "    <meta name=\"keywords\" content=\"鱼C工作室|免费编程视频教学|Python教学|Web开发教学|全栈开发教学|C语言教学|汇编教学|Win32开发|加密与解密|Linux教学\">\n",
      "    <meta name=\"description\" content=\"鱼C工作室为大家提供最有趣的编程视频教学。\">\n",
      "    <meta name=\"author\" content=\"鱼C工作室\">\n",
      "    <title>鱼C工作室-免费编程视频教学|Python教学|Web开发教学|全栈开发教学|C语言教学|汇编教学|Win32开发|加密与解密|Linux教学</title>\n",
      "    <link rel=\"shortcut icon\" type=\"image/x-icon\" href=\"img/favicon.ico\">\n",
      "    <link rel=\"stylesheet\" href=\"css/styles.css\">\n",
      "     <!--<link rel=\"stylesheet\" href=\"css/timeline.css\">-->\n",
      "    <script src=\"js/jq.js\"></script>\n",
      "    <script src=\"js/fishcEgg.js\"></script>\n",
      "    <script>\n",
      "        $(document).ready(function() {\n",
      "            var windowHeight = document.documentElement.clientHeight || document.body.clientHeight;\n",
      "\n",
      "            createStoryJS({\n",
      "                type:       'timeline',\n",
      "                width:      'auto',\n",
      "                height:     windowHeight,\n",
      "                source:     'data.json',\n",
      "                start_at_end:true,                          //OPTIONAL START AT LATEST DATE\n",
      "                embed_id:   'my-timeline'\n",
      "            });\n",
      "\n",
      "            // 浏览器判断，如果是IE弹出提示框\n",
      "            function getExplore(){\n",
      "                var Sys = {};\n",
      "                var ua = navigator.userAgent.toLowerCase();\n",
      "                var s;\n",
      "                (s = ua.match(/rv:([\\d.]+)\\) like gecko/)) ? Sys.ie = s[1] :\n",
      "                    (s = ua.match(/msie ([\\d\\.]+)/)) ? Sys.ie = s[1] :\n",
      "                        (s = ua.match(/edge\\/([\\d\\.]+)/)) ? Sys.edge = s[1] :\n",
      "                            (s = ua.match(/firefox\\/([\\d\\.]+)/)) ? Sys.firefox = s[1] :\n",
      "                                (s = ua.match(/(?:opera|opr).([\\d\\.]+)/)) ? Sys.opera = s[1] :\n",
      "                                    (s = ua.match(/chrome\\/([\\d\\.]+)/)) ? Sys.chrome = s[1] :\n",
      "                                        (s = ua.match(/version\\/([\\d\\.]+).*safari/)) ? Sys.safari = s[1] : 0;\n",
      "                // 根据关系进行判断\n",
      "                if (Sys.ie) alert('请使用非IE浏览器打开本主页');\n",
      "\n",
      "            }\n",
      "            getExplore();\n",
      "\n",
      "        });\n",
      "    </script>\n",
      "    <!-- <script src=\"js/timeline-min.js\"></script>\n",
      "    <script src=\"js/embed.js\"></script> -->\n",
      "    <!-- <script src=\"https://cdn.bootcss.com/timelinejs/2.36.0/js/storyjs-embed.js\"></script> -->\n",
      "    <script src=\"https://cdnjs.cloudflare.com/ajax/libs/timelinejs/2.36.0/js/storyjs-embed.js\"></script>\n",
      "    <!-- END TimelineJS -->\n",
      "</head>\n",
      "<body>\n",
      "<a href='http://fishc.taobao.com' target='_blank' style=\"position: absolute;z-index: 99999;\"><img style=\"position: fixed; top: 15px; right: 0; border: 0;\" src=\"img/fork.png\" alt=\"Support Thanks\"></a>\n",
      "<div id=\"my-timeline\"></div>\n",
      "\n",
      "<script>\n",
      "    window.onload = function(){\n",
      "        $(\".storyjs-embed.sized-embed\").css(\"padding-top\",\"0\");\n",
      "        $(\".vco-storyjs .vco-feature .vco-slide\").css(\"padding-top\",\"0\");\n",
      "    };\n",
      "\n",
      "</script>\n",
      "</body>\n",
      "</html>\n"
     ]
    }
   ],
   "source": [
    "html=html.decode('utf-8')#解码\n",
    "print(html)"
   ]
  },
  {
   "cell_type": "code",
   "execution_count": 9,
   "metadata": {},
   "outputs": [],
   "source": [
    "#download cat\n",
    "import urllib.request\n",
    "response=urllib.request.urlopen('http://placekitten.com/g/500/600')\n",
    "cat_img=response.read()\n",
    "with open('cat_500_600.jpg','wb')as f:\n",
    "    f.write(cat_img) #"
   ]
  },
  {
   "cell_type": "code",
   "execution_count": 25,
   "metadata": {},
   "outputs": [
    {
     "name": "stdout",
     "output_type": "stream",
     "text": [
      "                          {\"type\":\"ZH_CN2EN\",\"errorCode\":0,\"elapsedTime\":1,\"translateResult\":[[{\"src\":\"你好\",\"tgt\":\"hello\"}]]}\n",
      "\n"
     ]
    }
   ],
   "source": [
    "import urllib.request\n",
    "import urllib.parse\n",
    "import json\n",
    "\n",
    "\n",
    "\n",
    "url = \"http://fanyi.youdao.com/translate?smartresult=dict&smartresult=rule&smartresult=ugc&sessionFrom=http://www.youdao.com/\"\n",
    "data = {}\n",
    "data['i']='你好'\n",
    "data['smartresult']='dict'\n",
    "data['client']='fanyideskweb'\n",
    "data['salt']='15585718450257'\n",
    "data['sign']='a2bafe18cfe40d057d375b316a8e1978'\n",
    "data['ts']='1558571845025'\n",
    "data['bv']='a4ba1a892447ed67f335485c23b16658'\n",
    "data['doctype']='json'\n",
    "data['version']='2.1'\n",
    "data['keyfrom']='fanyi.web'\n",
    "data['action']='FY_BY_CLICKBUTTION'\n",
    "\n",
    "data = urllib.parse.urlencode(data).encode('utf-8')\n",
    "response = urllib.request.urlopen(url, data)\n",
    "html = response.read().decode('utf-8')\n",
    "print(html)\n",
    "\n",
    "\n"
   ]
  },
  {
   "cell_type": "code",
   "execution_count": 26,
   "metadata": {},
   "outputs": [
    {
     "data": {
      "text/plain": [
       "dict"
      ]
     },
     "execution_count": 26,
     "metadata": {},
     "output_type": "execute_result"
    }
   ],
   "source": [
    "target=json.loads(html)\n",
    "type(target)"
   ]
  },
  {
   "cell_type": "code",
   "execution_count": 27,
   "metadata": {},
   "outputs": [
    {
     "data": {
      "text/plain": [
       "{'elapsedTime': 1,\n",
       " 'errorCode': 0,\n",
       " 'translateResult': [[{'src': '你好', 'tgt': 'hello'}]],\n",
       " 'type': 'ZH_CN2EN'}"
      ]
     },
     "execution_count": 27,
     "metadata": {},
     "output_type": "execute_result"
    }
   ],
   "source": [
    "target"
   ]
  },
  {
   "cell_type": "code",
   "execution_count": 4,
   "metadata": {},
   "outputs": [
    {
     "name": "stdout",
     "output_type": "stream",
     "text": [
      "请输入需要翻译的内容：love\n",
      "翻译结果：爱\n"
     ]
    }
   ],
   "source": [
    "import urllib.request\n",
    "import urllib.parse\n",
    "import json\n",
    "\n",
    "\n",
    "content=input('请输入需要翻译的内容：')\n",
    "url = \"http://fanyi.youdao.com/translate?smartresult=dict&smartresult=rule&smartresult=ugc&sessionFrom=\\\n",
    "http://www.youdao.com/\"\n",
    "\n",
    "#head={}\n",
    "#head['User-Agent']='Mozilla/5.0 (Windows NT 10.0; WOW64) \\\n",
    "#AppleWebKit/537.36 (KHTML, like Gecko) Chrome/63.0.3239.132 Safari/537.36'\n",
    "\n",
    "data = {}\n",
    "data['i']=content\n",
    "data['smartresult']='dict'\n",
    "data['client']='fanyideskweb'\n",
    "data['salt']='15585718450257'\n",
    "data['sign']='a2bafe18cfe40d057d375b316a8e1978'\n",
    "data['ts']='1558571845025'\n",
    "data['bv']='a4ba1a892447ed67f335485c23b16658'\n",
    "data['doctype']='json'\n",
    "data['version']='2.1'\n",
    "data['keyfrom']='fanyi.web'\n",
    "data['action']='FY_BY_CLICKBUTTION'\n",
    "\n",
    "data = urllib.parse.urlencode(data).encode('utf-8')\n",
    "response = urllib.request.urlopen(url, data)\n",
    "html = response.read().decode('utf-8')\n",
    "target=json.loads(html)\n",
    "print(\"翻译结果：%s\"%(target['translateResult'][0][0]['tgt']))"
   ]
  },
  {
   "cell_type": "code",
   "execution_count": 10,
   "metadata": {},
   "outputs": [
    {
     "name": "stdout",
     "output_type": "stream",
     "text": [
      "请输入需要翻译的内容(输入q!推出程序)：love\n",
      "翻译结果：爱\n",
      "请输入需要翻译的内容(输入q!推出程序)：q!\n"
     ]
    }
   ],
   "source": [
    "import urllib.request\n",
    "import urllib.parse\n",
    "import json\n",
    "import time\n",
    "\n",
    "\n",
    "\n",
    "while True:\n",
    "    content=input('请输入需要翻译的内容(输入q!推出程序)：')\n",
    "    if content=='q!':\n",
    "        break\n",
    "    url = \"http://fanyi.youdao.com/translate?smartresult=dict&smartresult=rule&smartresult=ugc&sessionFrom=\\\n",
    "    http://www.youdao.com/\"\n",
    "\n",
    "    #head={}\n",
    "    #head['User-Agent']='Mozilla/5.0 (Windows NT 10.0; WOW64) \\\n",
    "    #AppleWebKit/537.36 (KHTML, like Gecko) Chrome/55.0.2883.87 UBrowser/6.2.4094.1 Safari/537.36'\n",
    "\n",
    "    data = {}\n",
    "    data['i']=content\n",
    "    data['smartresult']='dict'\n",
    "    data['client']='fanyideskweb'\n",
    "    data['salt']='15585718450257'\n",
    "    data['sign']='a2bafe18cfe40d057d375b316a8e1978'\n",
    "    data['ts']='1558571845025'\n",
    "    data['bv']='a4ba1a892447ed67f335485c23b16658'\n",
    "    data['doctype']='json'\n",
    "    data['version']='2.1'\n",
    "    data['keyfrom']='fanyi.web'\n",
    "    data['action']='FY_BY_CLICKBUTTION'\n",
    "\n",
    "    data = urllib.parse.urlencode(data).encode('utf-8')\n",
    "\n",
    "    req = urllib.request.Request(url, data)\n",
    "    req.add_header('User-Agent','Mozilla/5.0 (Windows NT 10.0; WOW64) \\\n",
    "    AppleWebKit/537.36 (KHTML, like Gecko) Chrome/55.0.2883.87 UBrowser/6.2.4094.1 Safari/537.36')\n",
    "\n",
    "    response=urllib.request.urlopen(req)\n",
    "    html = response.read().decode('utf-8')\n",
    "    target=json.loads(html)\n",
    "    print(\"翻译结果：%s\"%(target['translateResult'][0][0]['tgt']))\n",
    "    time.sleep(2)#休息2s"
   ]
  },
  {
   "cell_type": "code",
   "execution_count": 3,
   "metadata": {},
   "outputs": [
    {
     "name": "stdout",
     "output_type": "stream",
     "text": [
      "not match ,REQUEST req.url: http://www.whatismyip.com.tw\n"
     ]
    }
   ],
   "source": [
    "import urllib.request\n",
    "\n",
    "url = 'http://www.whatismyip.com.tw'\n",
    "\n",
    "proxy_support = urllib.request.ProxyHandler({'http':'118.24.75.110:8888'})\n",
    "\n",
    "opener = urllib.request.build_opener(proxy_support)\n",
    "opener.addheaders = [('User-Agent','Mozilla/5.0 (Windows NT 10.0; WOW64) AppleWebKit/537.36 (KHTML, like Gecko) Chrome/63.0.3239.132 Safari/537.36')]\n",
    "\n",
    "urllib.request.install_opener(opener)\n",
    "response=urllib.request.urlopen(url)\n",
    "html=response.read().decode('utf-8')\n",
    "print(html)"
   ]
  },
  {
   "cell_type": "code",
   "execution_count": 1,
   "metadata": {
    "collapsed": true
   },
   "outputs": [
    {
     "ename": "HTTPError",
     "evalue": "HTTP Error 504: Gateway Timeout",
     "output_type": "error",
     "traceback": [
      "\u001b[1;31m---------------------------------------------------------------------------\u001b[0m",
      "\u001b[1;31mHTTPError\u001b[0m                                 Traceback (most recent call last)",
      "\u001b[1;32m<ipython-input-1-8ce64a50e837>\u001b[0m in \u001b[0;36m<module>\u001b[1;34m\u001b[0m\n\u001b[0;32m      9\u001b[0m \u001b[0mopener\u001b[0m\u001b[1;33m.\u001b[0m\u001b[0maddheaders\u001b[0m \u001b[1;33m=\u001b[0m \u001b[1;33m[\u001b[0m\u001b[1;33m(\u001b[0m\u001b[1;34m'User-Agent'\u001b[0m\u001b[1;33m,\u001b[0m\u001b[1;34m'Mozilla/5.0 (Windows NT 10.0; WOW64) AppleWebKit/537.36 (KHTML, like Gecko) Chrome/63.0.3239.132 Safari/537.36'\u001b[0m\u001b[1;33m)\u001b[0m\u001b[1;33m]\u001b[0m\u001b[1;33m\u001b[0m\u001b[0m\n\u001b[0;32m     10\u001b[0m \u001b[0murllib\u001b[0m\u001b[1;33m.\u001b[0m\u001b[0mrequest\u001b[0m\u001b[1;33m.\u001b[0m\u001b[0minstall_opener\u001b[0m\u001b[1;33m(\u001b[0m\u001b[0mopener\u001b[0m\u001b[1;33m)\u001b[0m\u001b[1;33m\u001b[0m\u001b[0m\n\u001b[1;32m---> 11\u001b[1;33m \u001b[0mresponse\u001b[0m \u001b[1;33m=\u001b[0m \u001b[0murllib\u001b[0m\u001b[1;33m.\u001b[0m\u001b[0mrequest\u001b[0m\u001b[1;33m.\u001b[0m\u001b[0murlopen\u001b[0m\u001b[1;33m(\u001b[0m\u001b[0murl\u001b[0m\u001b[1;33m)\u001b[0m\u001b[1;33m\u001b[0m\u001b[0m\n\u001b[0m\u001b[0;32m     12\u001b[0m \u001b[0mhtml\u001b[0m \u001b[1;33m=\u001b[0m \u001b[0mresponse\u001b[0m\u001b[1;33m.\u001b[0m\u001b[0mread\u001b[0m\u001b[1;33m(\u001b[0m\u001b[1;33m)\u001b[0m\u001b[1;33m.\u001b[0m\u001b[0mdecode\u001b[0m\u001b[1;33m(\u001b[0m\u001b[1;34m'utf-8'\u001b[0m\u001b[1;33m)\u001b[0m\u001b[1;33m\u001b[0m\u001b[0m\n\u001b[0;32m     13\u001b[0m \u001b[1;33m\u001b[0m\u001b[0m\n",
      "\u001b[1;32md:\\python35\\lib\\urllib\\request.py\u001b[0m in \u001b[0;36murlopen\u001b[1;34m(url, data, timeout, cafile, capath, cadefault, context)\u001b[0m\n\u001b[0;32m    161\u001b[0m     \u001b[1;32melse\u001b[0m\u001b[1;33m:\u001b[0m\u001b[1;33m\u001b[0m\u001b[0m\n\u001b[0;32m    162\u001b[0m         \u001b[0mopener\u001b[0m \u001b[1;33m=\u001b[0m \u001b[0m_opener\u001b[0m\u001b[1;33m\u001b[0m\u001b[0m\n\u001b[1;32m--> 163\u001b[1;33m     \u001b[1;32mreturn\u001b[0m \u001b[0mopener\u001b[0m\u001b[1;33m.\u001b[0m\u001b[0mopen\u001b[0m\u001b[1;33m(\u001b[0m\u001b[0murl\u001b[0m\u001b[1;33m,\u001b[0m \u001b[0mdata\u001b[0m\u001b[1;33m,\u001b[0m \u001b[0mtimeout\u001b[0m\u001b[1;33m)\u001b[0m\u001b[1;33m\u001b[0m\u001b[0m\n\u001b[0m\u001b[0;32m    164\u001b[0m \u001b[1;33m\u001b[0m\u001b[0m\n\u001b[0;32m    165\u001b[0m \u001b[1;32mdef\u001b[0m \u001b[0minstall_opener\u001b[0m\u001b[1;33m(\u001b[0m\u001b[0mopener\u001b[0m\u001b[1;33m)\u001b[0m\u001b[1;33m:\u001b[0m\u001b[1;33m\u001b[0m\u001b[0m\n",
      "\u001b[1;32md:\\python35\\lib\\urllib\\request.py\u001b[0m in \u001b[0;36mopen\u001b[1;34m(self, fullurl, data, timeout)\u001b[0m\n\u001b[0;32m    470\u001b[0m         \u001b[1;32mfor\u001b[0m \u001b[0mprocessor\u001b[0m \u001b[1;32min\u001b[0m \u001b[0mself\u001b[0m\u001b[1;33m.\u001b[0m\u001b[0mprocess_response\u001b[0m\u001b[1;33m.\u001b[0m\u001b[0mget\u001b[0m\u001b[1;33m(\u001b[0m\u001b[0mprotocol\u001b[0m\u001b[1;33m,\u001b[0m \u001b[1;33m[\u001b[0m\u001b[1;33m]\u001b[0m\u001b[1;33m)\u001b[0m\u001b[1;33m:\u001b[0m\u001b[1;33m\u001b[0m\u001b[0m\n\u001b[0;32m    471\u001b[0m             \u001b[0mmeth\u001b[0m \u001b[1;33m=\u001b[0m \u001b[0mgetattr\u001b[0m\u001b[1;33m(\u001b[0m\u001b[0mprocessor\u001b[0m\u001b[1;33m,\u001b[0m \u001b[0mmeth_name\u001b[0m\u001b[1;33m)\u001b[0m\u001b[1;33m\u001b[0m\u001b[0m\n\u001b[1;32m--> 472\u001b[1;33m             \u001b[0mresponse\u001b[0m \u001b[1;33m=\u001b[0m \u001b[0mmeth\u001b[0m\u001b[1;33m(\u001b[0m\u001b[0mreq\u001b[0m\u001b[1;33m,\u001b[0m \u001b[0mresponse\u001b[0m\u001b[1;33m)\u001b[0m\u001b[1;33m\u001b[0m\u001b[0m\n\u001b[0m\u001b[0;32m    473\u001b[0m \u001b[1;33m\u001b[0m\u001b[0m\n\u001b[0;32m    474\u001b[0m         \u001b[1;32mreturn\u001b[0m \u001b[0mresponse\u001b[0m\u001b[1;33m\u001b[0m\u001b[0m\n",
      "\u001b[1;32md:\\python35\\lib\\urllib\\request.py\u001b[0m in \u001b[0;36mhttp_response\u001b[1;34m(self, request, response)\u001b[0m\n\u001b[0;32m    580\u001b[0m         \u001b[1;32mif\u001b[0m \u001b[1;32mnot\u001b[0m \u001b[1;33m(\u001b[0m\u001b[1;36m200\u001b[0m \u001b[1;33m<=\u001b[0m \u001b[0mcode\u001b[0m \u001b[1;33m<\u001b[0m \u001b[1;36m300\u001b[0m\u001b[1;33m)\u001b[0m\u001b[1;33m:\u001b[0m\u001b[1;33m\u001b[0m\u001b[0m\n\u001b[0;32m    581\u001b[0m             response = self.parent.error(\n\u001b[1;32m--> 582\u001b[1;33m                 'http', request, response, code, msg, hdrs)\n\u001b[0m\u001b[0;32m    583\u001b[0m \u001b[1;33m\u001b[0m\u001b[0m\n\u001b[0;32m    584\u001b[0m         \u001b[1;32mreturn\u001b[0m \u001b[0mresponse\u001b[0m\u001b[1;33m\u001b[0m\u001b[0m\n",
      "\u001b[1;32md:\\python35\\lib\\urllib\\request.py\u001b[0m in \u001b[0;36merror\u001b[1;34m(self, proto, *args)\u001b[0m\n\u001b[0;32m    508\u001b[0m         \u001b[1;32mif\u001b[0m \u001b[0mhttp_err\u001b[0m\u001b[1;33m:\u001b[0m\u001b[1;33m\u001b[0m\u001b[0m\n\u001b[0;32m    509\u001b[0m             \u001b[0margs\u001b[0m \u001b[1;33m=\u001b[0m \u001b[1;33m(\u001b[0m\u001b[0mdict\u001b[0m\u001b[1;33m,\u001b[0m \u001b[1;34m'default'\u001b[0m\u001b[1;33m,\u001b[0m \u001b[1;34m'http_error_default'\u001b[0m\u001b[1;33m)\u001b[0m \u001b[1;33m+\u001b[0m \u001b[0morig_args\u001b[0m\u001b[1;33m\u001b[0m\u001b[0m\n\u001b[1;32m--> 510\u001b[1;33m             \u001b[1;32mreturn\u001b[0m \u001b[0mself\u001b[0m\u001b[1;33m.\u001b[0m\u001b[0m_call_chain\u001b[0m\u001b[1;33m(\u001b[0m\u001b[1;33m*\u001b[0m\u001b[0margs\u001b[0m\u001b[1;33m)\u001b[0m\u001b[1;33m\u001b[0m\u001b[0m\n\u001b[0m\u001b[0;32m    511\u001b[0m \u001b[1;33m\u001b[0m\u001b[0m\n\u001b[0;32m    512\u001b[0m \u001b[1;31m# XXX probably also want an abstract factory that knows when it makes\u001b[0m\u001b[1;33m\u001b[0m\u001b[1;33m\u001b[0m\u001b[0m\n",
      "\u001b[1;32md:\\python35\\lib\\urllib\\request.py\u001b[0m in \u001b[0;36m_call_chain\u001b[1;34m(self, chain, kind, meth_name, *args)\u001b[0m\n\u001b[0;32m    442\u001b[0m         \u001b[1;32mfor\u001b[0m \u001b[0mhandler\u001b[0m \u001b[1;32min\u001b[0m \u001b[0mhandlers\u001b[0m\u001b[1;33m:\u001b[0m\u001b[1;33m\u001b[0m\u001b[0m\n\u001b[0;32m    443\u001b[0m             \u001b[0mfunc\u001b[0m \u001b[1;33m=\u001b[0m \u001b[0mgetattr\u001b[0m\u001b[1;33m(\u001b[0m\u001b[0mhandler\u001b[0m\u001b[1;33m,\u001b[0m \u001b[0mmeth_name\u001b[0m\u001b[1;33m)\u001b[0m\u001b[1;33m\u001b[0m\u001b[0m\n\u001b[1;32m--> 444\u001b[1;33m             \u001b[0mresult\u001b[0m \u001b[1;33m=\u001b[0m \u001b[0mfunc\u001b[0m\u001b[1;33m(\u001b[0m\u001b[1;33m*\u001b[0m\u001b[0margs\u001b[0m\u001b[1;33m)\u001b[0m\u001b[1;33m\u001b[0m\u001b[0m\n\u001b[0m\u001b[0;32m    445\u001b[0m             \u001b[1;32mif\u001b[0m \u001b[0mresult\u001b[0m \u001b[1;32mis\u001b[0m \u001b[1;32mnot\u001b[0m \u001b[1;32mNone\u001b[0m\u001b[1;33m:\u001b[0m\u001b[1;33m\u001b[0m\u001b[0m\n\u001b[0;32m    446\u001b[0m                 \u001b[1;32mreturn\u001b[0m \u001b[0mresult\u001b[0m\u001b[1;33m\u001b[0m\u001b[0m\n",
      "\u001b[1;32md:\\python35\\lib\\urllib\\request.py\u001b[0m in \u001b[0;36mhttp_error_default\u001b[1;34m(self, req, fp, code, msg, hdrs)\u001b[0m\n\u001b[0;32m    588\u001b[0m \u001b[1;32mclass\u001b[0m \u001b[0mHTTPDefaultErrorHandler\u001b[0m\u001b[1;33m(\u001b[0m\u001b[0mBaseHandler\u001b[0m\u001b[1;33m)\u001b[0m\u001b[1;33m:\u001b[0m\u001b[1;33m\u001b[0m\u001b[0m\n\u001b[0;32m    589\u001b[0m     \u001b[1;32mdef\u001b[0m \u001b[0mhttp_error_default\u001b[0m\u001b[1;33m(\u001b[0m\u001b[0mself\u001b[0m\u001b[1;33m,\u001b[0m \u001b[0mreq\u001b[0m\u001b[1;33m,\u001b[0m \u001b[0mfp\u001b[0m\u001b[1;33m,\u001b[0m \u001b[0mcode\u001b[0m\u001b[1;33m,\u001b[0m \u001b[0mmsg\u001b[0m\u001b[1;33m,\u001b[0m \u001b[0mhdrs\u001b[0m\u001b[1;33m)\u001b[0m\u001b[1;33m:\u001b[0m\u001b[1;33m\u001b[0m\u001b[0m\n\u001b[1;32m--> 590\u001b[1;33m         \u001b[1;32mraise\u001b[0m \u001b[0mHTTPError\u001b[0m\u001b[1;33m(\u001b[0m\u001b[0mreq\u001b[0m\u001b[1;33m.\u001b[0m\u001b[0mfull_url\u001b[0m\u001b[1;33m,\u001b[0m \u001b[0mcode\u001b[0m\u001b[1;33m,\u001b[0m \u001b[0mmsg\u001b[0m\u001b[1;33m,\u001b[0m \u001b[0mhdrs\u001b[0m\u001b[1;33m,\u001b[0m \u001b[0mfp\u001b[0m\u001b[1;33m)\u001b[0m\u001b[1;33m\u001b[0m\u001b[0m\n\u001b[0m\u001b[0;32m    591\u001b[0m \u001b[1;33m\u001b[0m\u001b[0m\n\u001b[0;32m    592\u001b[0m \u001b[1;32mclass\u001b[0m \u001b[0mHTTPRedirectHandler\u001b[0m\u001b[1;33m(\u001b[0m\u001b[0mBaseHandler\u001b[0m\u001b[1;33m)\u001b[0m\u001b[1;33m:\u001b[0m\u001b[1;33m\u001b[0m\u001b[0m\n",
      "\u001b[1;31mHTTPError\u001b[0m: HTTP Error 504: Gateway Timeout"
     ]
    }
   ],
   "source": [
    "import urllib.request\n",
    "import random\n",
    "\n",
    "url = 'http://www.whatismyip.com.tw'\n",
    "iplist = ['123.139.56.238:9999','118.24.75.110:8888','59.108.125.241:8080']\n",
    "\n",
    "proxy_support = urllib.request.ProxyHandler({'http':random.choice(iplist)})\n",
    "opener = urllib.request.build_opener(proxy_support)\n",
    "opener.addheaders = [('User-Agent','Mozilla/5.0 (Windows NT 10.0; WOW64) AppleWebKit/537.36 (KHTML, like Gecko) Chrome/63.0.3239.132 Safari/537.36')]\n",
    "urllib.request.install_opener(opener)\n",
    "response = urllib.request.urlopen(url)\n",
    "html = response.read().decode('utf-8')\n",
    "\n",
    "print(html)"
   ]
  },
  {
   "cell_type": "code",
   "execution_count": 7,
   "metadata": {},
   "outputs": [
    {
     "data": {
      "text/plain": [
       "<_sre.SRE_Match object; span=(7, 12), match='FishC'>"
      ]
     },
     "execution_count": 7,
     "metadata": {},
     "output_type": "execute_result"
    }
   ],
   "source": [
    "#用正则表达式匹配网址\n",
    "import re\n",
    "re.search(r'FishC','i love FishC.com')\n"
   ]
  },
  {
   "cell_type": "code",
   "execution_count": 8,
   "metadata": {},
   "outputs": [
    {
     "data": {
      "text/plain": [
       "7"
      ]
     },
     "execution_count": 8,
     "metadata": {},
     "output_type": "execute_result"
    }
   ],
   "source": [
    "'i love FishC.com'.find('FishC')"
   ]
  },
  {
   "cell_type": "code",
   "execution_count": null,
   "metadata": {},
   "outputs": [],
   "source": [
    "re.search(r'[ab{3}c'])"
   ]
  },
  {
   "cell_type": "code",
   "execution_count": 9,
   "metadata": {},
   "outputs": [
    {
     "data": {
      "text/plain": [
       "<_sre.SRE_Match object; span=(0, 3), match='188'>"
      ]
     },
     "execution_count": 9,
     "metadata": {},
     "output_type": "execute_result"
    }
   ],
   "source": [
    "re.search(r'[01]\\d\\d|2[0-4]\\d|25[0-5]','188')"
   ]
  },
  {
   "cell_type": "code",
   "execution_count": 20,
   "metadata": {},
   "outputs": [],
   "source": [
    "re.search(r'(([01]\\d\\d|2[0-4]\\d|25[0-5]))(\\.([01]\\d\\d |2[0-4]\\d|25[0-5]){3})','192.168.1.1')"
   ]
  },
  {
   "cell_type": "code",
   "execution_count": 18,
   "metadata": {},
   "outputs": [
    {
     "data": {
      "text/plain": [
       "<_sre.SRE_Match object; span=(0, 11), match='192.168.1.1'>"
      ]
     },
     "execution_count": 18,
     "metadata": {},
     "output_type": "execute_result"
    }
   ],
   "source": [
    "re.search(r'(2(5[0-5]{1}|[0-4]\\d{1})|[0-1]?\\d{1,2})(\\.(2(5[0-5]{1}|[0-4]\\d{1})|[0-1]?\\d{1,2})){3}','192.168.1.1')"
   ]
  },
  {
   "cell_type": "code",
   "execution_count": null,
   "metadata": {},
   "outputs": [],
   "source": [
    "re.search(r'2(5[0-5]{1}|[0-4]\\d{1}|[0-1]?\\d{1,2}))"
   ]
  },
  {
   "cell_type": "code",
   "execution_count": 1,
   "metadata": {},
   "outputs": [],
   "source": [
    "import scrapy\n"
   ]
  },
  {
   "cell_type": "code",
   "execution_count": null,
   "metadata": {},
   "outputs": [],
   "source": []
  }
 ],
 "metadata": {
  "kernelspec": {
   "display_name": "Python 3",
   "language": "python",
   "name": "python3"
  },
  "language_info": {
   "codemirror_mode": {
    "name": "ipython",
    "version": 3
   },
   "file_extension": ".py",
   "mimetype": "text/x-python",
   "name": "python",
   "nbconvert_exporter": "python",
   "pygments_lexer": "ipython3",
   "version": "3.5.2"
  }
 },
 "nbformat": 4,
 "nbformat_minor": 2
}
