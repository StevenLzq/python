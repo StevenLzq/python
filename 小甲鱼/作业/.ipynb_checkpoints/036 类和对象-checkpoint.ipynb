{
 "cells": [
  {
   "cell_type": "code",
   "execution_count": null,
   "metadata": {},
   "outputs": [],
   "source": [
    "0、对象中的属性和方法，在编程中实际是什么？\n",
    "对象是模拟真实世界，把数据和代码都封装在一起。\n",
    "变量（属性）和函数（方法）"
   ]
  },
  {
   "cell_type": "code",
   "execution_count": null,
   "metadata": {},
   "outputs": [],
   "source": [
    "1、类和对象是什么关系呢？\n",
    "类是模具，对象是制作出的物品\n"
   ]
  },
  {
   "cell_type": "code",
   "execution_count": null,
   "metadata": {},
   "outputs": [],
   "source": [
    "2、如果我们定义了一个猫类，那你能想象出由“猫”类实例化的对象有哪些？\n",
    "各种猫\n"
   ]
  },
  {
   "cell_type": "code",
   "execution_count": null,
   "metadata": {},
   "outputs": [],
   "source": [
    "3. 类的定义有些时候或许不那么“拟物”，有时候会抽象一些，例如我们定义一个矩形类，那你会为此添加哪些属性和方法呢？\n",
    "属性：长宽\n",
    "方法；求面积，求周长，求长宽比"
   ]
  },
  {
   "cell_type": "code",
   "execution_count": null,
   "metadata": {},
   "outputs": [],
   "source": [
    "4. 类的属性定义应该尽可能抽象还是尽可能具体？\n",
    "属性应该尽可能抽象一点，这样更符合面向对象思维"
   ]
  },
  {
   "cell_type": "code",
   "execution_count": null,
   "metadata": {},
   "outputs": [],
   "source": [
    "5. 请用一句话概括面向对象的几个特征？\n",
    "封装\t对外部隐藏对象的工作细节\n",
    "继承\t子类自动共享父类之间数据和方法的机制\n",
    "多态\t可以对不同类的对象调用相同的方法，产生不同的结果"
   ]
  },
  {
   "cell_type": "code",
   "execution_count": null,
   "metadata": {},
   "outputs": [],
   "source": [
    "6、函数和方法的区别？\n",
    "函数和方法几乎是一样的，当然除了方法会多一个self参数"
   ]
  },
  {
   "cell_type": "code",
   "execution_count": 4,
   "metadata": {},
   "outputs": [
    {
     "name": "stdout",
     "output_type": "stream",
     "text": [
      "他的名字是小熊\n"
     ]
    }
   ],
   "source": [
    "#生成一个person类\n",
    "class Person(object):\n",
    "    def __init__(self,):\n",
    "        self.name='小熊'\n",
    "    def print_name(self):\n",
    "        print('他的名字是%s'%self.name)\n",
    "boy=Person()\n",
    "boy.print_name()"
   ]
  },
  {
   "cell_type": "code",
   "execution_count": 12,
   "metadata": {},
   "outputs": [
    {
     "name": "stdout",
     "output_type": "stream",
     "text": [
      "area为20.000000\n",
      "chang为4.000000\n"
     ]
    }
   ],
   "source": [
    "#生成一个矩形的类\n",
    "class Rec(object):\n",
    "    def __init__(self,chang,kuan):\n",
    "        self.chang=chang\n",
    "        self.kuan=kuan\n",
    "    def get_area(self):\n",
    "        print('area为%f'%(self.chang*self.kuan))\n",
    "    def get_chang(self):\n",
    "        print('chang为%f'%self.chang)\n",
    "rec=Rec(4,5)\n",
    "rec.get_area()\n",
    "rec.get_chang()"
   ]
  },
  {
   "cell_type": "code",
   "execution_count": null,
   "metadata": {},
   "outputs": [],
   "source": []
  }
 ],
 "metadata": {
  "kernelspec": {
   "display_name": "Python 3",
   "language": "python",
   "name": "python3"
  },
  "language_info": {
   "codemirror_mode": {
    "name": "ipython",
    "version": 3
   },
   "file_extension": ".py",
   "mimetype": "text/x-python",
   "name": "python",
   "nbconvert_exporter": "python",
   "pygments_lexer": "ipython3",
   "version": "3.5.2"
  }
 },
 "nbformat": 4,
 "nbformat_minor": 2
}
