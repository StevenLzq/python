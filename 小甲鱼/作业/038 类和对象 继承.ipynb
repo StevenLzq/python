{
 "cells": [
  {
   "cell_type": "code",
   "execution_count": null,
   "metadata": {},
   "outputs": [],
   "source": [
    "0、继承机制给程序员带来的最大好处？\n",
    "节省重复的工作量"
   ]
  },
  {
   "cell_type": "code",
   "execution_count": null,
   "metadata": {},
   "outputs": [],
   "source": [
    "2、 当子类定义了与相同名字的属性或方法时，Python 是否会自动删除父类的相关属性或方法？\n",
    "不会删除，只是不再调用父类中的方法\n",
    "\n",
    "会报错，因为 __init__ 特殊方法不应当返回除了 None 以外的任何对象。4qZ"
   ]
  },
  {
   "cell_type": "code",
   "execution_count": null,
   "metadata": {},
   "outputs": [],
   "source": [
    "3、假设已经有鸟类的定义，现在我要定义企鹅类继承于鸟类，但我们都知道企鹅是不会飞的，\n",
    "我们应该如何屏蔽父类（鸟类）中飞的方法？\n",
    "覆盖父类"
   ]
  },
  {
   "cell_type": "code",
   "execution_count": null,
   "metadata": {},
   "outputs": [],
   "source": [
    "4、super 函数有什么“超级”的地方？\n",
    "super()__init__()"
   ]
  },
  {
   "cell_type": "code",
   "execution_count": 18,
   "metadata": {},
   "outputs": [
    {
     "data": {
      "text/plain": [
       "5.0"
      ]
     },
     "execution_count": 18,
     "metadata": {},
     "output_type": "execute_result"
    }
   ],
   "source": [
    "#定义一个点（Point）类和直线（Line）类，使用 getLen 方法可以获得直线的长度。\n",
    "\n",
    "import math\n",
    "\n",
    "class Point():\n",
    "    def __init__(self, x=0, y=0):\n",
    "        self.x = x\n",
    "        self.y = y\n",
    "\n",
    "    def getX(self):\n",
    "        return self.x\n",
    "\n",
    "    def getY(self):\n",
    "        return self.y\n",
    "\n",
    "class Line():\n",
    "    def __init__(self, p1, p2):\n",
    "        self.x = p1.getX() - p2.getX()\n",
    "        self.y = p1.getY() - p2.getY()\n",
    "        self.len = math.sqrt(self.x*self.x + self.y*self.y)\n",
    "\n",
    "    def getLen(self):\n",
    "        return self.len\n",
    "\n",
    "p1 = Point(1, 1)\n",
    "p2 = Point(4, 5)\n",
    "line = Line(p1, p2)\n",
    "line.getLen()\n"
   ]
  },
  {
   "cell_type": "code",
   "execution_count": null,
   "metadata": {},
   "outputs": [],
   "source": []
  }
 ],
 "metadata": {
  "kernelspec": {
   "display_name": "Python 3",
   "language": "python",
   "name": "python3"
  },
  "language_info": {
   "codemirror_mode": {
    "name": "ipython",
    "version": 3
   },
   "file_extension": ".py",
   "mimetype": "text/x-python",
   "name": "python",
   "nbconvert_exporter": "python",
   "pygments_lexer": "ipython3",
   "version": "3.5.2"
  }
 },
 "nbformat": 4,
 "nbformat_minor": 2
}
