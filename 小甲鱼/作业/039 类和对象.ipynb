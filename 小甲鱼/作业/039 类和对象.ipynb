{
 "cells": [
  {
   "cell_type": "code",
   "execution_count": null,
   "metadata": {},
   "outputs": [],
   "source": [
    "0. 什么是组合（组成）？ \n",
    "答：Python 继承机制很有用，但容易把代码复杂化以及依赖隐含继承。\n",
    "因此，经常的时候，我们可以使用组合来代替。在Python里组合其实很简单，\n",
    "直接在类定义中把需要的类放进去实例化就可以了。!R"
   ]
  },
  {
   "cell_type": "code",
   "execution_count": null,
   "metadata": {},
   "outputs": [],
   "source": [
    "1. 什么时候用组合，什么时候用继承？\n",
    "答：根据实际应用场景确定。简单的说，组合用于“有一个”的场景中，\n",
    "继承用于“是一个”的场景中。例如，水池里有一个乌龟，天上有一个鸟，\n",
    "地上有一个小甲鱼，这些适合使用组合。青瓜是瓜，女人是人，鲨鱼是鱼\n",
    "这些就应该使用继承啦"
   ]
  },
  {
   "cell_type": "code",
   "execution_count": null,
   "metadata": {},
   "outputs": [],
   "source": [
    "类对象是在什么时候产生？WpEbi\n",
    "\n",
    "答：当你这个类定义完的时候，类定义就变成类对象，\n",
    "可以直接通过“类名.属性”或者“类名.方法名()”引用或使用相关的属性或方法"
   ]
  },
  {
   "cell_type": "code",
   "execution_count": null,
   "metadata": {},
   "outputs": [],
   "source": [
    "3. 如果对象的属性跟方法名字相同，会怎样？QmOX@f%8\n",
    "\n",
    "答：如果对象的属性跟方法名相同，属性会覆盖方法"
   ]
  },
  {
   "cell_type": "code",
   "execution_count": 11,
   "metadata": {},
   "outputs": [
    {
     "data": {
      "text/plain": [
       "0"
      ]
     },
     "execution_count": 11,
     "metadata": {},
     "output_type": "execute_result"
    }
   ],
   "source": [
    "#请动手在一个类中定义一个变量，用于跟踪该类有多少个实例被创建\n",
    "#（当实例化一个对象，这个变量+1，当销毁一个对象，这个变量自动-1）。\n",
    "class C(object):\n",
    "        count = 0\n",
    "        \n",
    "        def __init__(self):\n",
    "                C.count += 1\n",
    "\n",
    "        def __del__(self):\n",
    "                C.count -= 1\n",
    "a=C()\n",
    "b=C()\n",
    "C.count\n"
   ]
  },
  {
   "cell_type": "code",
   "execution_count": 12,
   "metadata": {},
   "outputs": [],
   "source": [
    "#定义一个栈\n",
    "class Stack(object):\n",
    "    def __init__(self,):\n",
    "        self.stack=[]\n",
    "        \n",
    "    def push(self,item):\n",
    "        self.stack.append(item)\n",
    "    def pop(self):\n",
    "        if self.stack:\n",
    "            self.stack.pop()\n",
    "        else:\n",
    "            print('it is empty')\n",
    "    def isempty(self):\n",
    "        if self.stack:\n",
    "            return False\n",
    "        else :\n",
    "            return True\n",
    "    def top(self):\n",
    "        return self.stack[-1]\n",
    "    def bottom(self):\n",
    "        return self.stack[0]\n",
    "        \n",
    "        \n",
    "    "
   ]
  },
  {
   "cell_type": "code",
   "execution_count": null,
   "metadata": {},
   "outputs": [],
   "source": [
    "#定义一个队列  先进先出\n",
    "class Queue(object):\n",
    "    def __init__(self):\n",
    "        self.queue=[]\n",
    "    def isempty(self):\n",
    "        if self.queue==[]:\n",
    "            return True\n",
    "        else:\n",
    "            return False\n",
    "    def enqueue(self,item):\n",
    "        self.queue.append(item)\n",
    "    def dequeue(self):\n",
    "        if self.queue isempty:\n",
    "            print('no item')\n",
    "        else:\n",
    "            return self,queue.pop(0)\n",
    "    \n",
    "    \n",
    "    "
   ]
  }
 ],
 "metadata": {
  "kernelspec": {
   "display_name": "Python 3",
   "language": "python",
   "name": "python3"
  },
  "language_info": {
   "codemirror_mode": {
    "name": "ipython",
    "version": 3
   },
   "file_extension": ".py",
   "mimetype": "text/x-python",
   "name": "python",
   "nbconvert_exporter": "python",
   "pygments_lexer": "ipython3",
   "version": "3.5.2"
  }
 },
 "nbformat": 4,
 "nbformat_minor": 2
}
